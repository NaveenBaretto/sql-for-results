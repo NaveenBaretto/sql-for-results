{
 "cells": [
  {
   "cell_type": "markdown",
   "id": "7d7e0cb4",
   "metadata": {},
   "source": [
    "# Load CSVs into SQLite Database\n",
    "This notebook loads all datasets from the `datasets/` folder into a SQLite database named `sample.db`."
   ]
  },
  {
   "cell_type": "code",
   "execution_count": 7,
   "id": "de2b9857",
   "metadata": {},
   "outputs": [
    {
     "name": "stdout",
     "output_type": "stream",
     "text": [
      "Loaded ab_test_data.csv into table 'ab_test_data'\n",
      "Loaded funnel_steps.csv into table 'funnel_steps'\n",
      "Loaded orders.csv into table 'orders'\n",
      "Loaded products.csv into table 'products'\n",
      "Loaded users.csv into table 'users'\n"
     ]
    }
   ],
   "source": [
    "import sqlite3\n",
    "import pandas as pd\n",
    "from pathlib import Path\n",
    "\n",
    "db_path = '../datasets/sample.db'\n",
    "conn = sqlite3.connect(db_path)\n",
    "csv_folder = Path('../datasets')\n",
    "csv_files = list(csv_folder.glob('*.csv'))\n",
    "\n",
    "for csv_file in csv_files:\n",
    "    table_name = csv_file.stem\n",
    "    df = pd.read_csv(csv_file)\n",
    "    df.to_sql(table_name, conn, if_exists='replace', index=False)\n",
    "    print(f\"Loaded {csv_file.name} into table '{table_name}'\")"
   ]
  },
  {
   "cell_type": "code",
   "execution_count": null,
   "id": "5097bcbe-ef6e-4d72-a124-da044246d6bc",
   "metadata": {},
   "outputs": [],
   "source": []
  }
 ],
 "metadata": {
  "kernelspec": {
   "display_name": "Python 3 (ipykernel)",
   "language": "python",
   "name": "python3"
  },
  "language_info": {
   "codemirror_mode": {
    "name": "ipython",
    "version": 3
   },
   "file_extension": ".py",
   "mimetype": "text/x-python",
   "name": "python",
   "nbconvert_exporter": "python",
   "pygments_lexer": "ipython3",
   "version": "3.12.2"
  }
 },
 "nbformat": 4,
 "nbformat_minor": 5
}
