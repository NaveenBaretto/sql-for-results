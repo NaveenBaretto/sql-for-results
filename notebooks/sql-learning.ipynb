{
 "cells": [
  {
   "cell_type": "markdown",
   "metadata": {},
   "source": [
    "# 🧠 Learn SQL by Doing: Guided SQL Notebook\n",
    "Welcome to your SQL interactive learning notebook! This hands-on course covers the basics using real tables like `users`, `orders`, and `products`."
   ]
  },
  {
   "cell_type": "code",
   "execution_count": null,
   "metadata": {},
   "source": [
    "%load_ext sql\n",
    "%sql sqlite:///sample.db"
   ],
   "outputs": []
  },
  {
   "cell_type": "markdown",
   "metadata": {},
   "source": [
    "## 1. Select Your First Rows\n",
    "Let’s begin by querying the `users` table."
   ]
  },
  {
   "cell_type": "code",
   "execution_count": null,
   "metadata": {},
   "source": [
    "%%sql\n",
    "SELECT * FROM users LIMIT 5;"
   ]
  },
  {
   "cell_type": "markdown",
   "metadata": {},
   "source": [
    "## 2. Filtering with WHERE\n",
    "Find all active users in the South region."
   ]
  },
  {
   "cell_type": "code",
   "execution_count": null,
   "metadata": {},
   "source": [
    "%%sql\n",
    "SELECT * FROM users\n",
    "WHERE region = 'South' AND status = 'active';"
   ]
  },
  {
   "cell_type": "markdown",
   "metadata": {},
   "source": [
    "## 3. Joining Tables\n",
    "Combine user and order data."
   ]
  },
  {
   "cell_type": "code",
   "execution_count": null,
   "metadata": {},
   "source": [
    "%%sql\n",
    "SELECT u.id, u.name, o.order_id, o.revenue\n",
    "FROM users u\n",
    "JOIN orders o ON u.id = o.user_id\n",
    "LIMIT 10;"
   ]
  }
 ],
 "metadata": {
  "kernelspec": {
   "display_name": "Python 3 + SQL",
   "language": "python",
   "name": "python3"
  },
  "language_info": {
   "name": "python",
   "version": "3.9"
  }
 },
 "nbformat": 4,
 "nbformat_minor": 2
}