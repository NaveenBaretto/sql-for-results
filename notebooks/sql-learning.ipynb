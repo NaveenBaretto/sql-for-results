{
 "cells": [
  {
   "cell_type": "markdown",
   "metadata": {},
   "source": [
    "# 🧠 SQL Learning Notebook\n",
    "\n",
    "Welcome! This notebook helps you learn core SQL concepts interactively using `%sql` magic.\n",
    "\n",
    "**Database:** sample.db (from `load_csvs_to_sqlite.ipynb`)\n",
    "\n",
    "---\n",
    "## 1. 🟢 SELECT Statements"
   ]
  },
  {
   "cell_type": "code",
   "execution_count": null,
   "metadata": {},
   "outputs": [],
   "source": [
    "%sql\n",
    "-- Select all users\n",
    "SELECT * FROM users LIMIT 5;"
   ]
  },
  {
   "cell_type": "markdown",
   "metadata": {},
   "source": [
    "## 2. 🔎 Filtering with WHERE"
   ]
  },
  {
   "cell_type": "code",
   "execution_count": null,
   "metadata": {},
   "outputs": [],
   "source": [
    "%sql\n",
    "-- Filter users from India\n",
    "SELECT * FROM users\n",
    "WHERE country = 'India';"
   ]
  },
  {
   "cell_type": "markdown",
   "metadata": {},
   "source": [
    "## 3. ↕️ Sorting and Aliasing"
   ]
  },
  {
   "cell_type": "code",
   "execution_count": null,
   "metadata": {},
   "outputs": [],
   "source": [
    "%sql\n",
    "-- Sort users by age\n",
    "SELECT name, age AS user_age\n",
    "FROM users\n",
    "ORDER BY age DESC;"
   ]
  },
  {
   "cell_type": "markdown",
   "metadata": {},
   "source": [
    "## 4. 🧮 Aggregations (GROUP BY, SUM, COUNT)"
   ]
  },
  {
   "cell_type": "code",
   "execution_count": null,
   "metadata": {},
   "outputs": [],
   "source": [
    "%sql\n",
    "-- Count of users by country\n",
    "SELECT country, COUNT(*) AS user_count\n",
    "FROM users\n",
    "GROUP BY country;"
   ]
  },
  {
   "cell_type": "code",
   "execution_count": null,
   "metadata": {},
   "outputs": [],
   "source": [
    "%sql\n",
    "-- Total order value by user\n",
    "SELECT user_id, SUM(order_amount) AS total_spent\n",
    "FROM orders\n",
    "GROUP BY user_id\n",
    "ORDER BY total_spent DESC;"
   ]
  },
  {
   "cell_type": "markdown",
   "metadata": {},
   "source": [
    "## 5. 🔗 JOIN Operations"
   ]
  },
  {
   "cell_type": "code",
   "execution_count": null,
   "metadata": {},
   "outputs": [],
   "source": [
    "%sql\n",
    "-- Join users and orders\n",
    "SELECT u.user_id, u.name, o.order_id, o.order_amount\n",
    "FROM users u\n",
    "JOIN orders o ON u.user_id = o.user_id\n",
    "LIMIT 10;"
   ]
  },
  {
   "cell_type": "markdown",
   "metadata": {},
   "source": [
    "## 6. 🧠 Subqueries and CASE Logic"
   ]
  },
  {
   "cell_type": "code",
   "execution_count": null,
   "metadata": {},
   "outputs": [],
   "source": [
    "%sql\n",
    "-- Get users who spent more than average\n",
    "SELECT u.user_id, u.name, SUM(o.order_amount) AS total_spent\n",
    "FROM users u\n",
    "JOIN orders o ON u.user_id = o.user_id\n",
    "GROUP BY u.user_id\n",
    "HAVING total_spent > (\n",
    "    SELECT AVG(order_amount) FROM orders\n",
    ");"
   ]
  },
  {
   "cell_type": "code",
   "execution_count": null,
   "metadata": {},
   "outputs": [],
   "source": [
    "%sql\n",
    "-- Classify orders by size using CASE\n",
    "SELECT order_id, order_amount,\n",
    "       CASE\n",
    "           WHEN order_amount > 1000 THEN 'High'\n",
    "           WHEN order_amount BETWEEN 500 AND 1000 THEN 'Medium'\n",
    "           ELSE 'Low'\n",
    "       END AS order_size\n",
    "FROM orders\n",
    "LIMIT 10;"
   ]
  }
 ],
 "metadata": {
  "kernelspec": {
   "display_name": "Python 3",
   "language": "python",
   "name": "python3"
  },
  "language_info": {
   "name": "python",
   "version": ""
  }
 },
 "nbformat": 4,
 "nbformat_minor": 5
}