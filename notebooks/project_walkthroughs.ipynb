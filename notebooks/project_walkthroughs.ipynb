{
 "cells": [
  {
   "cell_type": "markdown",
   "id": "ed6a03f6",
   "metadata": {},
   "source": [
    "# Project Walkthroughs with SQL\n",
    "This notebook demonstrates end-to-end analysis using SQL on the sample dataset."
   ]
  },
  {
   "cell_type": "code",
   "execution_count": 2,
   "id": "00ba0521",
   "metadata": {},
   "outputs": [],
   "source": [
    "%load_ext sql\n",
    "%sql sqlite:///../datasets/sample.db"
   ]
  },
  {
   "cell_type": "markdown",
   "id": "6397b99d",
   "metadata": {},
   "source": [
    "## Example: Top Countries by User Count"
   ]
  },
  {
   "cell_type": "code",
   "execution_count": 3,
   "id": "44f04cd9",
   "metadata": {},
   "outputs": [
    {
     "name": "stdout",
     "output_type": "stream",
     "text": [
      " * sqlite:///../datasets/sample.db\n",
      "(sqlite3.OperationalError) no such column: country\n",
      "[SQL: SELECT country, COUNT(*) as user_count\n",
      "FROM users\n",
      "GROUP BY country\n",
      "ORDER BY user_count DESC;]\n",
      "(Background on this error at: https://sqlalche.me/e/20/e3q8)\n"
     ]
    }
   ],
   "source": [
    "%%sql\n",
    "SELECT country, COUNT(*) as user_count\n",
    "FROM users\n",
    "GROUP BY country\n",
    "ORDER BY user_count DESC;"
   ]
  },
  {
   "cell_type": "code",
   "execution_count": null,
   "id": "e81c7913-3bc4-48ab-976b-0ddf9b0a2f39",
   "metadata": {},
   "outputs": [],
   "source": []
  }
 ],
 "metadata": {
  "kernelspec": {
   "display_name": "Python 3 (ipykernel)",
   "language": "python",
   "name": "python3"
  },
  "language_info": {
   "codemirror_mode": {
    "name": "ipython",
    "version": 3
   },
   "file_extension": ".py",
   "mimetype": "text/x-python",
   "name": "python",
   "nbconvert_exporter": "python",
   "pygments_lexer": "ipython3",
   "version": "3.12.2"
  }
 },
 "nbformat": 4,
 "nbformat_minor": 5
}
