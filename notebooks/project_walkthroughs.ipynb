{
 "cells": [
  {
   "cell_type": "markdown",
   "metadata": {},
   "source": [
    "# 💼 Project Walkthroughs: SQL for Real-World Analysis\n",
    "In this notebook, we solve key business problems using SQL with real data."
   ]
  },
  {
   "cell_type": "code",
   "metadata": {},
   "source": [
    "%load_ext sql\n",
    "%sql sqlite:///sample.db"
   ],
   "execution_count": null,
   "outputs": []
  },
  {
   "cell_type": "markdown",
   "metadata": {},
   "source": [
    "## 🎯 Project 1: Segmenting Customers\n",
    "Group users into tiers based on their revenue."
   ]
  },
  {
   "cell_type": "code",
   "metadata": {},
   "source": [
    "%%sql\n",
    "SELECT \n",
    "  user_id,\n",
    "  SUM(revenue) AS total_revenue,\n",
    "  CASE \n",
    "    WHEN SUM(revenue) > 1000 THEN 'High Value'\n",
    "    WHEN SUM(revenue) BETWEEN 500 AND 1000 THEN 'Mid Value'\n",
    "    ELSE 'Low Value'\n",
    "  END AS segment\n",
    "FROM orders\n",
    "GROUP BY user_id;"
   ],
   "execution_count": null,
   "outputs": []
  },
  {
   "cell_type": "markdown",
   "metadata": {},
   "source": [
    "## 🧪 Project 2: Funnel Analysis\n",
    "Track user drop-off through funnel steps."
   ]
  },
  {
   "cell_type": "code",
   "metadata": {},
   "source": [
    "%%sql\n",
    "SELECT \n",
    "  user_id,\n",
    "  MAX(CASE WHEN step = 'landing' THEN 1 ELSE 0 END) AS landed,\n",
    "  MAX(CASE WHEN step = 'signup' THEN 1 ELSE 0 END) AS signed_up,\n",
    "  MAX(CASE WHEN step = 'purchase' THEN 1 ELSE 0 END) AS purchased\n",
    "FROM funnel_steps\n",
    "GROUP BY user_id;"
   ],
   "execution_count": null,
   "outputs": []
  }
 ],
 "metadata": {
  "kernelspec": {
   "display_name": "Python 3 + SQL",
   "language": "python",
   "name": "python3"
  },
  "language_info": {
   "name": "python",
   "version": "3.9"
  }
 },
 "nbformat": 4,
 "nbformat_minor": 2
}